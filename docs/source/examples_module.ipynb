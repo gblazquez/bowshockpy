{
 "cells": [
  {
   "cell_type": "markdown",
   "id": "a8cf0632",
   "metadata": {},
   "source": [
    "Examples of modular usage\n",
    "==========================\n"
   ]
  },
  {
   "cell_type": "markdown",
   "id": "8b52db72",
   "metadata": {
    "vscode": {
     "languageId": "plaintext"
    }
   },
   "source": [
    "Some examples of modular usage"
   ]
  },
  {
   "cell_type": "markdown",
   "id": "f59e1bc5",
   "metadata": {},
   "source": [
    "Example 1\n",
    "---------"
   ]
  },
  {
   "cell_type": "markdown",
   "id": "2cc7a77e",
   "metadata": {
    "vscode": {
     "languageId": "plaintext"
    }
   },
   "source": [
    "import matplotlib.pyplot as plt"
   ]
  },
  {
   "cell_type": "markdown",
   "id": "b0e53fae",
   "metadata": {},
   "source": []
  },
  {
   "cell_type": "markdown",
   "id": "88830407",
   "metadata": {},
   "source": []
  },
  {
   "cell_type": "markdown",
   "id": "313d661f",
   "metadata": {},
   "source": []
  }
 ],
 "metadata": {
  "language_info": {
   "name": "python"
  }
 },
 "nbformat": 4,
 "nbformat_minor": 5
}
